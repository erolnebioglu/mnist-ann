{
  "nbformat": 4,
  "nbformat_minor": 0,
  "metadata": {
    "colab": {
      "provenance": []
    },
    "kernelspec": {
      "name": "python3",
      "display_name": "Python 3"
    },
    "language_info": {
      "name": "python"
    }
  },
  "cells": [
    {
      "cell_type": "markdown",
      "source": [
        "## load the mnist data"
      ],
      "metadata": {
        "id": "U-AMgnhEZi4U"
      }
    },
    {
      "cell_type": "code",
      "execution_count": 2,
      "metadata": {
        "colab": {
          "base_uri": "https://localhost:8080/"
        },
        "id": "YIj_T7bpYY4G",
        "outputId": "56028aa8-73d8-4b9f-f13c-00bc6636ef9e"
      },
      "outputs": [
        {
          "output_type": "stream",
          "name": "stdout",
          "text": [
            "Downloading data from https://storage.googleapis.com/tensorflow/tf-keras-datasets/mnist.npz\n",
            "11490434/11490434 [==============================] - 0s 0us/step\n"
          ]
        }
      ],
      "source": [
        "from keras.datasets import mnist\n",
        "(train_images, train_labels),(test_images, test_labels) = mnist.load_data()"
      ]
    },
    {
      "cell_type": "code",
      "source": [
        "train_images.shape"
      ],
      "metadata": {
        "colab": {
          "base_uri": "https://localhost:8080/"
        },
        "id": "up_UxDmqY-T0",
        "outputId": "e36dfca6-fbca-49ab-8f0d-5c83a73d97ff"
      },
      "execution_count": 3,
      "outputs": [
        {
          "output_type": "execute_result",
          "data": {
            "text/plain": [
              "(60000, 28, 28)"
            ]
          },
          "metadata": {},
          "execution_count": 3
        }
      ]
    },
    {
      "cell_type": "code",
      "source": [
        "len(train_images)"
      ],
      "metadata": {
        "colab": {
          "base_uri": "https://localhost:8080/"
        },
        "id": "HYH9vkeJZJfl",
        "outputId": "340adac7-0865-45ab-be15-387d73e6ef88"
      },
      "execution_count": 5,
      "outputs": [
        {
          "output_type": "execute_result",
          "data": {
            "text/plain": [
              "60000"
            ]
          },
          "metadata": {},
          "execution_count": 5
        }
      ]
    },
    {
      "cell_type": "code",
      "source": [
        "train_labels"
      ],
      "metadata": {
        "colab": {
          "base_uri": "https://localhost:8080/"
        },
        "id": "lJXbA-QtZM_W",
        "outputId": "d311ca7c-6032-442e-fde4-0bb7df2862c1"
      },
      "execution_count": 6,
      "outputs": [
        {
          "output_type": "execute_result",
          "data": {
            "text/plain": [
              "array([5, 0, 4, ..., 5, 6, 8], dtype=uint8)"
            ]
          },
          "metadata": {},
          "execution_count": 6
        }
      ]
    },
    {
      "cell_type": "code",
      "source": [
        "test_images.shape"
      ],
      "metadata": {
        "colab": {
          "base_uri": "https://localhost:8080/"
        },
        "id": "U0RJOpLaZVjD",
        "outputId": "d345ea8a-34f9-4cfc-a75e-b6614e1b96d2"
      },
      "execution_count": 7,
      "outputs": [
        {
          "output_type": "execute_result",
          "data": {
            "text/plain": [
              "(10000, 28, 28)"
            ]
          },
          "metadata": {},
          "execution_count": 7
        }
      ]
    },
    {
      "cell_type": "code",
      "source": [
        "test_labels.shape"
      ],
      "metadata": {
        "colab": {
          "base_uri": "https://localhost:8080/"
        },
        "id": "7PdF99XxZZiw",
        "outputId": "3f8313a6-0bcd-4fc5-cb08-4596851ac59c"
      },
      "execution_count": 8,
      "outputs": [
        {
          "output_type": "execute_result",
          "data": {
            "text/plain": [
              "(10000,)"
            ]
          },
          "metadata": {},
          "execution_count": 8
        }
      ]
    },
    {
      "cell_type": "markdown",
      "source": [
        "## neural network architecture"
      ],
      "metadata": {
        "id": "IQ7JUeZXZtj4"
      }
    },
    {
      "cell_type": "code",
      "source": [
        "from keras import models\n",
        "from keras import layers\n"
      ],
      "metadata": {
        "id": "uLulGMlbZ3JC"
      },
      "execution_count": 9,
      "outputs": []
    },
    {
      "cell_type": "code",
      "source": [
        "network = models.Sequential()\n",
        "network.add(layers.Dense(512,activation=\"relu\", input_shape=(28*28,)))\n",
        "network.add(layers.Dense(10,activation=\"softmax\"))"
      ],
      "metadata": {
        "id": "qAJAv5r8Z_Uo"
      },
      "execution_count": 12,
      "outputs": []
    },
    {
      "cell_type": "code",
      "source": [
        "network.compile(optimizer=\"rmsprop\",\n",
        "                loss=\"categorical_crossentropy\",\n",
        "                metrics=[\"accuracy\"])"
      ],
      "metadata": {
        "id": "gLcDi7SMaDQr"
      },
      "execution_count": 13,
      "outputs": []
    },
    {
      "cell_type": "code",
      "source": [
        "train_images = train_images.reshape((60000,28*28))\n",
        "train_images = train_images.astype(\"float32\")/255\n",
        "\n",
        "test_images = test_images.reshape((10000,28*28))\n",
        "test_images = test_images.astype(\"float32\")/255\n"
      ],
      "metadata": {
        "id": "vUqDNqA5a-wN"
      },
      "execution_count": 15,
      "outputs": []
    },
    {
      "cell_type": "code",
      "source": [
        "from keras.utils import to_categorical"
      ],
      "metadata": {
        "id": "182G2_7jbXpj"
      },
      "execution_count": 17,
      "outputs": []
    },
    {
      "cell_type": "code",
      "source": [
        "train_labels = to_categorical(train_labels)\n",
        "test_labels = to_categorical(test_labels)"
      ],
      "metadata": {
        "id": "nDrp4865biw4"
      },
      "execution_count": 18,
      "outputs": []
    },
    {
      "cell_type": "markdown",
      "source": [
        "## training"
      ],
      "metadata": {
        "id": "WMoMONuBb50D"
      }
    },
    {
      "cell_type": "code",
      "source": [
        "network.fit(train_images,train_labels,epochs=5,batch_size=128)"
      ],
      "metadata": {
        "colab": {
          "base_uri": "https://localhost:8080/"
        },
        "id": "qBBV2UHgb2j1",
        "outputId": "e2d38dfa-9f25-419b-b56b-b43ca33d53ca"
      },
      "execution_count": 19,
      "outputs": [
        {
          "output_type": "stream",
          "name": "stdout",
          "text": [
            "Epoch 1/5\n",
            "469/469 [==============================] - 7s 13ms/step - loss: 2.2408 - accuracy: 0.2547\n",
            "Epoch 2/5\n",
            "469/469 [==============================] - 5s 10ms/step - loss: 1.6916 - accuracy: 0.5821\n",
            "Epoch 3/5\n",
            "469/469 [==============================] - 6s 12ms/step - loss: 1.0564 - accuracy: 0.7427\n",
            "Epoch 4/5\n",
            "469/469 [==============================] - 5s 11ms/step - loss: 0.7570 - accuracy: 0.8098\n",
            "Epoch 5/5\n",
            "469/469 [==============================] - 5s 10ms/step - loss: 0.6088 - accuracy: 0.8409\n"
          ]
        },
        {
          "output_type": "execute_result",
          "data": {
            "text/plain": [
              "<keras.callbacks.History at 0x7f33a0696650>"
            ]
          },
          "metadata": {},
          "execution_count": 19
        }
      ]
    },
    {
      "cell_type": "code",
      "source": [
        "test_loss , test_acc = network.evaluate(test_images,test_labels)"
      ],
      "metadata": {
        "colab": {
          "base_uri": "https://localhost:8080/"
        },
        "id": "iW1yEYN7b7dz",
        "outputId": "a845e5e3-1adf-4529-8091-f19ac7f25e7e"
      },
      "execution_count": 20,
      "outputs": [
        {
          "output_type": "stream",
          "name": "stdout",
          "text": [
            "313/313 [==============================] - 1s 4ms/step - loss: 47.4976 - accuracy: 0.7461\n"
          ]
        }
      ]
    },
    {
      "cell_type": "code",
      "source": [
        "print(\"test loss: \",test_loss)"
      ],
      "metadata": {
        "colab": {
          "base_uri": "https://localhost:8080/"
        },
        "id": "PaXU7bv3cdYR",
        "outputId": "8603880e-a3cc-4732-e49e-d41a3aeeabc8"
      },
      "execution_count": 21,
      "outputs": [
        {
          "output_type": "stream",
          "name": "stdout",
          "text": [
            "test loss:  47.497623443603516\n"
          ]
        }
      ]
    },
    {
      "cell_type": "code",
      "source": [
        "print(\"test acc\",test_acc)"
      ],
      "metadata": {
        "colab": {
          "base_uri": "https://localhost:8080/"
        },
        "id": "8ikjnfbhcjSG",
        "outputId": "72f3bc1f-0449-49fb-d52c-6030407f3974"
      },
      "execution_count": 22,
      "outputs": [
        {
          "output_type": "stream",
          "name": "stdout",
          "text": [
            "test acc 0.7461000084877014\n"
          ]
        }
      ]
    },
    {
      "cell_type": "code",
      "source": [],
      "metadata": {
        "id": "DrVNyhvEcqzn"
      },
      "execution_count": null,
      "outputs": []
    }
  ]
}